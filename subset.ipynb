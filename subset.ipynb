{
 "cells": [
  {
   "cell_type": "code",
   "execution_count": 1,
   "metadata": {},
   "outputs": [],
   "source": [
    "def subset_sum(S, T):\n",
    "    n = len(S)\n",
    "    #for dynamic learning, we create a table of size list(T+1)*list(len(s)+1)\n",
    "    dp = [[False for j in range(T + 1)] for i in range(n + 1)]\n",
    "\n",
    "    # we set the table on zeros, so it could store the subsets \n",
    "    for i in range(n + 1):\n",
    "        dp[i][0] = True\n",
    "\n",
    "    # Here we star the implement oif it is possible the sum of J and i \n",
    "  \n",
    "    for i in range(1, n + 1):\n",
    "        for j in range(1, T + 1):\n",
    "            if j < S[i - 1]:\n",
    "                dp[i][j] = dp[i - 1][j]\n",
    "            else:\n",
    "                dp[i][j] = dp[i - 1][j] or dp[i - 1][j - S[i - 1]]\n",
    "  \n",
    "    if dp[n][T]:\n",
    "        i = n\n",
    "        j = T\n",
    "        result = []\n",
    "        while i > 0 and j > 0:\n",
    "            if dp[i][j] == dp[i - 1][j]:\n",
    "                i -= 1\n",
    "            else:\n",
    "                result.append(S[i - 1])\n",
    "                j -= S[i - 1]\n",
    "                i -= 1\n",
    "        return result\n",
    "    else:\n",
    "        return None\n"
   ]
  },
  {
   "cell_type": "code",
   "execution_count": null,
   "metadata": {},
   "outputs": [],
   "source": []
  }
 ],
 "metadata": {
  "kernelspec": {
   "display_name": "Python 3",
   "language": "python",
   "name": "python3"
  },
  "language_info": {
   "codemirror_mode": {
    "name": "ipython",
    "version": 3
   },
   "file_extension": ".py",
   "mimetype": "text/x-python",
   "name": "python",
   "nbconvert_exporter": "python",
   "pygments_lexer": "ipython3",
   "version": "3.10.2"
  },
  "orig_nbformat": 4,
  "vscode": {
   "interpreter": {
    "hash": "72933c3157e2c1221732fb8b3debc60aeaed22dae065090527122b5eb1842c1b"
   }
  }
 },
 "nbformat": 4,
 "nbformat_minor": 2
}
